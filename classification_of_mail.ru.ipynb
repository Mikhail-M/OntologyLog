{
 "cells": [
  {
   "cell_type": "code",
   "execution_count": 148,
   "metadata": {
    "collapsed": true
   },
   "outputs": [],
   "source": [
    "import pandas as pd\n",
    "from sklearn.feature_extraction.text import CountVectorizer"
   ]
  },
  {
   "cell_type": "code",
   "execution_count": 2,
   "metadata": {},
   "outputs": [
    {
     "name": "stdout",
     "output_type": "stream",
     "text": [
      "CPU times: user 2.13 s, sys: 247 ms, total: 2.38 s\n",
      "Wall time: 2.38 s\n"
     ]
    },
    {
     "data": {
      "text/plain": [
       "(257761, 7)"
      ]
     },
     "execution_count": 2,
     "metadata": {},
     "output_type": "execute_result"
    }
   ],
   "source": [
    "%time food_data = pd.read_csv('./csv_data_mail.ru/cooking.txt.csv')\n",
    "\n",
    "food_data.shape"
   ]
  },
  {
   "cell_type": "code",
   "execution_count": 4,
   "metadata": {},
   "outputs": [
    {
     "data": {
      "text/plain": [
       "food_other         69713\n",
       "sweets_baking      38530\n",
       "drinks             30197\n",
       "main_courses       28114\n",
       "food_buy           21170\n",
       "food_howto         14242\n",
       "salads             13454\n",
       "food_devices       11874\n",
       "food_preserving     9762\n",
       "soups               8710\n",
       "celebration         7988\n",
       "food_kid            4007\n",
       "Name: category_urlname, dtype: int64"
      ]
     },
     "execution_count": 4,
     "metadata": {},
     "output_type": "execute_result"
    }
   ],
   "source": [
    "food_data.category_urlname.value_counts()"
   ]
  },
  {
   "cell_type": "code",
   "execution_count": 5,
   "metadata": {},
   "outputs": [
    {
     "data": {
      "text/plain": [
       "array(['sweets_baking', 'drinks', 'food_devices', 'main_courses',\n",
       "       'food_other', 'celebration', 'food_howto', 'food_buy', 'salads',\n",
       "       'food_preserving', 'soups', 'food_kid'], dtype=object)"
      ]
     },
     "execution_count": 5,
     "metadata": {},
     "output_type": "execute_result"
    }
   ],
   "source": [
    "food_categories = food_data.category_urlname.unique()\n",
    "food_categories"
   ]
  },
  {
   "cell_type": "code",
   "execution_count": 7,
   "metadata": {},
   "outputs": [
    {
     "name": "stdout",
     "output_type": "stream",
     "text": [
      "CPU times: user 42.4 s, sys: 3.61 s, total: 46 s\n",
      "Wall time: 46.1 s\n"
     ]
    }
   ],
   "source": [
    "%time all_data = pd.read_csv('merged.csv')"
   ]
  },
  {
   "cell_type": "code",
   "execution_count": 10,
   "metadata": {
    "collapsed": true
   },
   "outputs": [],
   "source": [
    "correct_data = all_data.dropna()"
   ]
  },
  {
   "cell_type": "code",
   "execution_count": 11,
   "metadata": {},
   "outputs": [
    {
     "data": {
      "text/plain": [
       "(6577340, 6)"
      ]
     },
     "execution_count": 11,
     "metadata": {},
     "output_type": "execute_result"
    }
   ],
   "source": [
    "correct_data.shape"
   ]
  },
  {
   "cell_type": "code",
   "execution_count": 17,
   "metadata": {},
   "outputs": [
    {
     "data": {
      "text/plain": [
       "humor               891219\n",
       "adult               444122\n",
       "love_other          303557\n",
       "psychology          297445\n",
       "community           296229\n",
       "newcomers           196660\n",
       "other               191329\n",
       "drama               155501\n",
       "religion            146965\n",
       "family_other        120362\n",
       "politics            108853\n",
       "relations           100037\n",
       "food_other           90590\n",
       "football             89217\n",
       "internet             87950\n",
       "home_fauna           87515\n",
       "hardware             83785\n",
       "pc_games             83566\n",
       "loving               80813\n",
       "music                79589\n",
       "software             75008\n",
       "wisdom               73103\n",
       "illness              66352\n",
       "pc_other             63283\n",
       "auto_other           62293\n",
       "chiromancy           60197\n",
       "auto_tuning          58388\n",
       "other_mysterious     55442\n",
       "edu_homework         53486\n",
       "magia                53145\n",
       "                     ...  \n",
       "law_social            2745\n",
       "autosport             2578\n",
       "edu_baby              2546\n",
       "production            2499\n",
       "spa                   2397\n",
       "sunburn               2027\n",
       "relax_dining          1959\n",
       "job_abroad            1937\n",
       "fv_care               1887\n",
       "beeline               1851\n",
       "travel_tours          1763\n",
       "edu_abroad            1706\n",
       "souses                1649\n",
       "job_recruitment       1370\n",
       "blogs                 1342\n",
       "picknick              1300\n",
       "icq                   1294\n",
       "dmr                   1235\n",
       "job_resume            1172\n",
       "law_constitution      1057\n",
       "insurance              918\n",
       "law_agrarian           728\n",
       "doctor                 671\n",
       "office                 647\n",
       "law_ecological         622\n",
       "go_mail                309\n",
       "mailru_torg              9\n",
       "mailru_travel            6\n",
       "mailru_realty            6\n",
       "golden                   1\n",
       "Name: category_urlname, Length: 190, dtype: int64"
      ]
     },
     "execution_count": 17,
     "metadata": {},
     "output_type": "execute_result"
    }
   ],
   "source": [
    "correct_data.category_urlname.value_counts()"
   ]
  },
  {
   "cell_type": "markdown",
   "metadata": {},
   "source": [
    "Bag of bigram+unigram vectorizer"
   ]
  },
  {
   "cell_type": "code",
   "execution_count": 21,
   "metadata": {},
   "outputs": [
    {
     "data": {
      "text/plain": [
       "CountVectorizer(analyzer='word', binary=False, decode_error='strict',\n",
       "        dtype=<class 'numpy.int64'>, encoding='utf-8', input='content',\n",
       "        lowercase=True, max_df=1.0, max_features=None, min_df=1,\n",
       "        ngram_range=(1, 2), preprocessor=None, stop_words=None,\n",
       "        strip_accents=None, token_pattern='(?u)\\\\b\\\\w\\\\w+\\\\b',\n",
       "        tokenizer=None, vocabulary=None)"
      ]
     },
     "execution_count": 21,
     "metadata": {},
     "output_type": "execute_result"
    }
   ],
   "source": [
    "vectorizer = CountVectorizer(ngram_range=(1,2))\n",
    "vectorizer.fit(correct_data.question)"
   ]
  },
  {
   "cell_type": "code",
   "execution_count": 118,
   "metadata": {
    "collapsed": true
   },
   "outputs": [],
   "source": [
    "save_object(vectorizer, 'vectorizer_bigram+unigram.pkl')"
   ]
  },
  {
   "cell_type": "markdown",
   "metadata": {
    "collapsed": true
   },
   "source": [
    "Bag of unigram vectorizer"
   ]
  },
  {
   "cell_type": "code",
   "execution_count": 115,
   "metadata": {},
   "outputs": [
    {
     "name": "stdout",
     "output_type": "stream",
     "text": [
      "CPU times: user 1min 44s, sys: 10 s, total: 1min 54s\n",
      "Wall time: 2min 2s\n"
     ]
    }
   ],
   "source": [
    "%%time \n",
    "vectorizer_unigram = CountVectorizer(ngram_range=(1,1))\n",
    "vectorizer_unigram.fit(correct_data.question)"
   ]
  },
  {
   "cell_type": "code",
   "execution_count": 117,
   "metadata": {
    "collapsed": true
   },
   "outputs": [],
   "source": [
    "save_object(vectorizer_unigram, 'vectorizer_unigram.pkl')"
   ]
  },
  {
   "cell_type": "markdown",
   "metadata": {},
   "source": [
    "bag of bigram vectorizer"
   ]
  },
  {
   "cell_type": "code",
   "execution_count": 119,
   "metadata": {},
   "outputs": [
    {
     "name": "stdout",
     "output_type": "stream",
     "text": [
      "CPU times: user 4min 46s, sys: 13.6 s, total: 5min\n",
      "Wall time: 5min 4s\n"
     ]
    }
   ],
   "source": [
    "%%time \n",
    "vectorizer_bigram = CountVectorizer(ngram_range=(2,2))\n",
    "vectorizer_bigram.fit(correct_data.question)"
   ]
  },
  {
   "cell_type": "code",
   "execution_count": 120,
   "metadata": {
    "collapsed": true
   },
   "outputs": [],
   "source": [
    "save_object(vectorizer_bigram, 'vectorizer_bigram.pkl')"
   ]
  },
  {
   "cell_type": "markdown",
   "metadata": {},
   "source": [
    "Simple Baseline on uni grams"
   ]
  },
  {
   "cell_type": "code",
   "execution_count": 82,
   "metadata": {
    "collapsed": true
   },
   "outputs": [],
   "source": [
    "from sklearn.naive_bayes import BernoulliNB\n",
    "from sklearn.linear_model import LogisticRegression"
   ]
  },
  {
   "cell_type": "code",
   "execution_count": 149,
   "metadata": {
    "collapsed": true
   },
   "outputs": [],
   "source": [
    "#def make_classification(vectorizer, X, y)"
   ]
  },
  {
   "cell_type": "code",
   "execution_count": 121,
   "metadata": {},
   "outputs": [
    {
     "name": "stdout",
     "output_type": "stream",
     "text": [
      "CPU times: user 2min 1s, sys: 6.21 s, total: 2min 8s\n",
      "Wall time: 2min 12s\n"
     ]
    }
   ],
   "source": [
    "%time X, y = vectorizer_unigram.transform(correct_data.question), correct_data.category_urlname.apply(lambda x: 1 if x in food_categories else 0)"
   ]
  },
  {
   "cell_type": "code",
   "execution_count": 122,
   "metadata": {},
   "outputs": [
    {
     "data": {
      "text/plain": [
       "0    6231106\n",
       "1     346234\n",
       "Name: category_urlname, dtype: int64"
      ]
     },
     "execution_count": 122,
     "metadata": {},
     "output_type": "execute_result"
    }
   ],
   "source": [
    "y.value_counts()"
   ]
  },
  {
   "cell_type": "markdown",
   "metadata": {
    "collapsed": true
   },
   "source": [
    "Сбалансируем выборку"
   ]
  },
  {
   "cell_type": "code",
   "execution_count": 123,
   "metadata": {
    "collapsed": true
   },
   "outputs": [],
   "source": [
    "import numpy as np\n",
    "n = y.value_counts()[1]\n",
    "mask = np.hstack([np.random.choice(np.where(y == l)[0], n, replace=False)\n",
    "                      for l in np.unique(y)])\n",
    "\n",
    "X_balanced, y_balanced = X[mask], y[mask]"
   ]
  },
  {
   "cell_type": "code",
   "execution_count": 124,
   "metadata": {
    "collapsed": true
   },
   "outputs": [],
   "source": [
    "from sklearn.cross_validation import train_test_split"
   ]
  },
  {
   "cell_type": "code",
   "execution_count": 125,
   "metadata": {
    "collapsed": true
   },
   "outputs": [],
   "source": [
    "X_train, X_test, y_train, y_test = train_test_split(X_balanced, y_balanced, test_size=0.3)"
   ]
  },
  {
   "cell_type": "code",
   "execution_count": 126,
   "metadata": {
    "collapsed": true
   },
   "outputs": [],
   "source": [
    "a = list(map(lambda x : 1 if x else 0, y_train))\n",
    "b = list(map(lambda x : 1 if x else 0, y_test))"
   ]
  },
  {
   "cell_type": "code",
   "execution_count": 144,
   "metadata": {},
   "outputs": [
    {
     "data": {
      "text/plain": [
       "LogisticRegression(C=0.1, class_weight=None, dual=False, fit_intercept=True,\n",
       "          intercept_scaling=1, max_iter=100, multi_class='ovr', n_jobs=1,\n",
       "          penalty='l2', random_state=None, solver='liblinear', tol=0.0001,\n",
       "          verbose=0, warm_start=False)"
      ]
     },
     "execution_count": 144,
     "metadata": {},
     "output_type": "execute_result"
    }
   ],
   "source": [
    "clf =  LogisticRegression(C=0.1)\n",
    "clf.fit(X_train, a)"
   ]
  },
  {
   "cell_type": "code",
   "execution_count": 145,
   "metadata": {},
   "outputs": [
    {
     "name": "stdout",
     "output_type": "stream",
     "text": [
      "             precision    recall  f1-score   support\n",
      "\n",
      "          0       0.83      0.84      0.84    128070\n",
      "          1       0.74      0.72      0.73     79671\n",
      "\n",
      "avg / total       0.80      0.80      0.80    207741\n",
      "\n"
     ]
    }
   ],
   "source": [
    "from sklearn.metrics import classification_report\n",
    "print(classification_report(b,  clf.predict(X_test)))"
   ]
  },
  {
   "cell_type": "code",
   "execution_count": 146,
   "metadata": {},
   "outputs": [
    {
     "data": {
      "text/plain": [
       "BernoulliNB(alpha=0.01, binarize=0.0, class_prior=None, fit_prior=True)"
      ]
     },
     "execution_count": 146,
     "metadata": {},
     "output_type": "execute_result"
    }
   ],
   "source": [
    "clf =  BernoulliNB(.01)\n",
    "clf.fit(X_train, a)"
   ]
  },
  {
   "cell_type": "code",
   "execution_count": 147,
   "metadata": {},
   "outputs": [
    {
     "name": "stdout",
     "output_type": "stream",
     "text": [
      "             precision    recall  f1-score   support\n",
      "\n",
      "          0       0.89      0.79      0.84    128070\n",
      "          1       0.72      0.85      0.78     79671\n",
      "\n",
      "avg / total       0.82      0.81      0.81    207741\n",
      "\n"
     ]
    }
   ],
   "source": [
    "print(classification_report(b,  clf.predict(X_test)))"
   ]
  }
 ],
 "metadata": {
  "kernelspec": {
   "display_name": "Python 3",
   "language": "python",
   "name": "python3"
  },
  "language_info": {
   "codemirror_mode": {
    "name": "ipython",
    "version": 3
   },
   "file_extension": ".py",
   "mimetype": "text/x-python",
   "name": "python",
   "nbconvert_exporter": "python",
   "pygments_lexer": "ipython3",
   "version": "3.6.3"
  }
 },
 "nbformat": 4,
 "nbformat_minor": 2
}
