{
 "cells": [
  {
   "cell_type": "code",
   "execution_count": 2,
   "metadata": {
    "collapsed": true
   },
   "outputs": [],
   "source": [
    "import json\n",
    "import pandas as pd\n",
    "from utils import *"
   ]
  },
  {
   "cell_type": "code",
   "execution_count": 3,
   "metadata": {},
   "outputs": [],
   "source": [
    "def getJsonArray(path):\n",
    "    f = open(path, 'r')\n",
    "    return (json.loads(x.strip()) for x in f)\n",
    "#Будем использовать только текст вопроса и лучший ответ, для начала\n",
    "def toDataFrame(b):\n",
    "    ids = []\n",
    "    nicks = []\n",
    "    ans_texts = []\n",
    "    question_texts = []\n",
    "    categories_urlnames = []\n",
    "    categories_names = []\n",
    "    for js in b:\n",
    "        ids.append(js['id'])\n",
    "        nicks.append(js['nick'])\n",
    "        ans_texts.append(js['best']['atext'])\n",
    "        question_texts.append(js['qtext'])\n",
    "        categories_urlnames.append(js['category']['urlname'])\n",
    "        categories_names.append(js['category']['name'])\n",
    "\n",
    "\n",
    "    return pd.DataFrame({'id': ids, 'best_answer':ans_texts, 'question': question_texts, 'nick': nicks, \n",
    "                         'category_name': categories_names, 'category_urlname': categories_urlnames}, \n",
    "                        columns=['id', 'nick', 'question', 'best_answer', 'category_urlname', 'category_name'] )"
   ]
  },
  {
   "cell_type": "markdown",
   "metadata": {},
   "source": []
  },
  {
   "cell_type": "code",
   "execution_count": 4,
   "metadata": {
    "collapsed": true
   },
   "outputs": [],
   "source": [
    "path_to_jsons = 'json_data_mail.ru/'\n",
    "path_to_csv = 'csv_data_mail.ru/'\n",
    "create_if_not_exist(path_to_csv)"
   ]
  },
  {
   "cell_type": "code",
   "execution_count": null,
   "metadata": {},
   "outputs": [
    {
     "name": "stdout",
     "output_type": "stream",
     "text": [
      ".ipynb_checkpoints\n",
      "xaa\n",
      "CPU times: user 44.2 s, sys: 2.3 s, total: 46.5 s\n",
      "Wall time: 46.9 s\n",
      "xab\n",
      "CPU times: user 43.8 s, sys: 2.12 s, total: 45.9 s\n",
      "Wall time: 46.2 s\n",
      "xad\n",
      "CPU times: user 44.9 s, sys: 2.34 s, total: 47.2 s\n",
      "Wall time: 47.5 s\n",
      "xae\n",
      "CPU times: user 45.4 s, sys: 2.54 s, total: 48 s\n",
      "Wall time: 48.4 s\n",
      "xaf\n",
      "CPU times: user 46.2 s, sys: 2.59 s, total: 48.8 s\n",
      "Wall time: 49.4 s\n",
      "xag\n",
      "CPU times: user 44.2 s, sys: 2.3 s, total: 46.5 s\n",
      "Wall time: 47 s\n",
      "xah\n",
      "CPU times: user 45.6 s, sys: 2.43 s, total: 48 s\n",
      "Wall time: 48.6 s\n",
      "xai\n",
      "CPU times: user 43.9 s, sys: 2.37 s, total: 46.3 s\n",
      "Wall time: 46.8 s\n",
      "xal\n"
     ]
    }
   ],
   "source": [
    "for file in os.listdir(path_to_jsons):\n",
    "    print(file)\n",
    "    try:\n",
    "        jsons = getJsonArray('{}/{}'.format(path_to_jsons, file))     \n",
    "        filtered_jsons = filter(lambda x: 'best' in x, jsons)\n",
    "        %time toDataFrame(filtered_jsons).to_csv('{}/{}.csv'.format(path_to_csv, file))\n",
    "    except:\n",
    "        continue"
   ]
  },
  {
   "cell_type": "code",
   "execution_count": null,
   "metadata": {},
   "outputs": [],
   "source": [
    "dataframes = [pd.read_csv('{}/{}'.format(path_to_csv, file), index_col=0) for file in os.listdir(path_to_csv)]"
   ]
  },
  {
   "cell_type": "code",
   "execution_count": null,
   "metadata": {},
   "outputs": [],
   "source": [
    "merged = pd.concat(dataframes)"
   ]
  },
  {
   "cell_type": "code",
   "execution_count": null,
   "metadata": {},
   "outputs": [],
   "source": [
    "merged.category_urlname.unique()"
   ]
  },
  {
   "cell_type": "code",
   "execution_count": null,
   "metadata": {
    "collapsed": true
   },
   "outputs": [],
   "source": []
  }
 ],
 "metadata": {
  "kernelspec": {
   "display_name": "Python 3",
   "language": "python",
   "name": "python3"
  }
 },
 "nbformat": 4,
 "nbformat_minor": 2
}
