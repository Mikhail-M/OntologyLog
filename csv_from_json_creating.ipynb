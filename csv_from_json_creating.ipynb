{
 "cells": [
  {
   "cell_type": "code",
   "execution_count": 1,
   "metadata": {
    "collapsed": true
   },
   "outputs": [],
   "source": [
    "import json\n",
    "import pandas as pd\n",
    "from utils import *"
   ]
  },
  {
   "cell_type": "code",
   "execution_count": 2,
   "metadata": {},
   "outputs": [],
   "source": [
    "def getJsonArray(path):\n",
    "    f = open(path, 'r')\n",
    "    return (json.loads(x.strip()) for x in f)\n",
    "#Будем использовать только текст вопроса и лучший ответ, для начала\n",
    "def toDataFrame(b):\n",
    "    ids = []\n",
    "    nicks = []\n",
    "    ans_texts = []\n",
    "    question_texts = []\n",
    "    categories_urlnames = []\n",
    "    categories_names = []\n",
    "    for js in b:\n",
    "        ids.append(js['id'])\n",
    "        nicks.append(js['nick'])\n",
    "        ans_texts.append(js['best']['atext'])\n",
    "        question_texts.append(js['qtext'])\n",
    "        categories_urlnames.append(js['category']['urlname'])\n",
    "        categories_names.append(js['category']['name'])\n",
    "\n",
    "\n",
    "    return pd.DataFrame({'id': ids, 'best_answer':ans_texts, 'question': question_texts, 'nick': nicks, \n",
    "                         'category_name': categories_names, 'category_urlname': categories_urlnames}, \n",
    "                        columns=['id', 'nick', 'question', 'best_answer', 'category_urlname', 'category_name'] )"
   ]
  },
  {
   "cell_type": "markdown",
   "metadata": {},
   "source": []
  },
  {
   "cell_type": "code",
   "execution_count": 3,
   "metadata": {
    "collapsed": true
   },
   "outputs": [],
   "source": [
    "path_to_jsons = 'json_data_mail.ru/'\n",
    "path_to_csv = 'csv_data_mail.ru/'\n",
    "create_if_not_exist(path_to_csv)"
   ]
  },
  {
   "cell_type": "code",
   "execution_count": null,
   "metadata": {},
   "outputs": [
    {
     "name": "stdout",
     "output_type": "stream",
     "text": [
      ".ipynb_checkpoints\n",
      "xaa\n",
      "CPU times: user 44.2 s, sys: 1.88 s, total: 46 s\n",
      "Wall time: 46.3 s\n",
      "xab\n",
      "CPU times: user 46.4 s, sys: 2.54 s, total: 49 s\n",
      "Wall time: 49.4 s\n",
      "xad\n"
     ]
    }
   ],
   "source": [
    "for file in os.listdir(path_to_jsons):\n",
    "    print(file)\n",
    "    try:\n",
    "        jsons = getJsonArray('{}/{}'.format(path_to_jsons, file))     \n",
    "        filtered_jsons = filter(lambda x: 'best' in x, jsons)\n",
    "        %time toDataFrame(filtered_jsons).to_csv('{}/{}.csv'.format(path_to_csv, file))\n",
    "    except:\n",
    "        continue"
   ]
  }
 ],
 "metadata": {
  "kernelspec": {
   "display_name": "Python 3",
   "language": "python",
   "name": "python3"
  },
  "language_info": {
   "codemirror_mode": {
    "name": "ipython",
    "version": 3
   },
   "file_extension": ".py",
   "mimetype": "text/x-python",
   "name": "python",
   "nbconvert_exporter": "python",
   "pygments_lexer": "ipython3",
   "version": "3.6.3"
  }
 },
 "nbformat": 4,
 "nbformat_minor": 2
}
