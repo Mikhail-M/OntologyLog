{
 "cells": [
  {
   "cell_type": "code",
   "execution_count": 1,
   "metadata": {
    "collapsed": true
   },
   "outputs": [],
   "source": [
    "import json\n",
    "import pandas as pd\n",
    "from utils import *"
   ]
  },
  {
   "cell_type": "code",
   "execution_count": 16,
   "metadata": {
    "collapsed": true
   },
   "outputs": [],
   "source": [
    "def getJsonArray(path):\n",
    "    f = open(path, 'r')\n",
    "    return (json.loads(x.strip()) for x in f)\n",
    "#Будем использовать только текст вопроса и лучший ответ, для начала\n",
    "def toDataFrame(b):\n",
    "    ids = []\n",
    "    nicks = []\n",
    "    ans_texts = []\n",
    "    question_texts = []\n",
    "    categories_urlnames = []\n",
    "    categories_names = []\n",
    "    for js in b:\n",
    "        try:\n",
    "            ids.append(js['id'])\n",
    "        except:\n",
    "            ids.append(js['qid'])\n",
    "        nicks.append(js['nick'])\n",
    "        ans_texts.append(js['best']['atext'])\n",
    "        question_texts.append(js['qtext'])\n",
    "        categories_urlnames.append(js['category']['urlname'])\n",
    "        categories_names.append(js['category']['name'])\n",
    "\n",
    "\n",
    "    return pd.DataFrame({'id': ids, 'best_answer':ans_texts, 'question': question_texts, 'nick': nicks, \n",
    "                         'category_name': categories_names, 'category_urlname': categories_urlnames}, \n",
    "                        columns=['id', 'nick', 'question', 'best_answer', 'category_urlname', 'category_name'] )"
   ]
  },
  {
   "cell_type": "markdown",
   "metadata": {},
   "source": []
  },
  {
   "cell_type": "code",
   "execution_count": 23,
   "metadata": {
    "collapsed": true
   },
   "outputs": [],
   "source": [
    "path_to_jsons = 'json_data_mail.ru/'\n",
    "path_to_csv = 'csv_data_mail.ru/'\n",
    "create_if_not_exist(path_to_csv)"
   ]
  },
  {
   "cell_type": "code",
   "execution_count": 24,
   "metadata": {},
   "outputs": [
    {
     "name": "stdout",
     "output_type": "stream",
     "text": [
      ".ipynb_checkpoints\n",
      "cooking.txt\n",
      "CPU times: user 59.9 s, sys: 3.03 s, total: 1min 2s\n",
      "Wall time: 1min 4s\n",
      "xaa\n",
      "CPU times: user 47.1 s, sys: 3.55 s, total: 50.7 s\n",
      "Wall time: 51.6 s\n",
      "xab\n",
      "CPU times: user 47.9 s, sys: 3.05 s, total: 51 s\n",
      "Wall time: 52 s\n",
      "xad\n",
      "CPU times: user 47.1 s, sys: 2.61 s, total: 49.7 s\n",
      "Wall time: 50.3 s\n",
      "xae\n",
      "CPU times: user 45.3 s, sys: 2.22 s, total: 47.5 s\n",
      "Wall time: 47.9 s\n",
      "xaf\n",
      "CPU times: user 44.8 s, sys: 2.31 s, total: 47.1 s\n",
      "Wall time: 47.6 s\n",
      "xag\n",
      "CPU times: user 44.8 s, sys: 2.12 s, total: 46.9 s\n",
      "Wall time: 47.2 s\n",
      "xah\n",
      "CPU times: user 47.2 s, sys: 2.52 s, total: 49.7 s\n",
      "Wall time: 50.2 s\n",
      "xai\n",
      "CPU times: user 46.4 s, sys: 2.69 s, total: 49.1 s\n",
      "Wall time: 49.8 s\n",
      "xal\n",
      "CPU times: user 42.9 s, sys: 2.18 s, total: 45.1 s\n",
      "Wall time: 45.6 s\n",
      "xam\n",
      "CPU times: user 6.81 s, sys: 281 ms, total: 7.09 s\n",
      "Wall time: 7.12 s\n"
     ]
    }
   ],
   "source": [
    "for file in os.listdir(path_to_jsons):\n",
    "    print(file)\n",
    "    try:\n",
    "        jsons = getJsonArray('{}/{}'.format(path_to_jsons, file))     \n",
    "        filtered_jsons = filter(lambda x: 'best' in x, jsons)\n",
    "        %time toDataFrame(filtered_jsons).to_csv('{}/{}.csv'.format(path_to_csv, file))\n",
    "    except:\n",
    "        continue"
   ]
  },
  {
   "cell_type": "code",
   "execution_count": 25,
   "metadata": {
    "collapsed": true
   },
   "outputs": [],
   "source": [
    "dataframes = [pd.read_csv('{}/{}'.format(path_to_csv, file), index_col=0) for file in os.listdir(path_to_csv)]"
   ]
  },
  {
   "cell_type": "code",
   "execution_count": 26,
   "metadata": {
    "collapsed": true
   },
   "outputs": [],
   "source": [
    "merged = pd.concat(dataframes)"
   ]
  },
  {
   "cell_type": "code",
   "execution_count": 27,
   "metadata": {
    "collapsed": true
   },
   "outputs": [],
   "source": [
    "merged.to_csv('merged.csv', index=False)"
   ]
  },
  {
   "cell_type": "code",
   "execution_count": null,
   "metadata": {
    "collapsed": true
   },
   "outputs": [],
   "source": []
  }
 ],
 "metadata": {
  "kernelspec": {
   "display_name": "Python 3",
   "language": "python",
   "name": "python3"
  },
  "language_info": {
   "codemirror_mode": {
    "name": "ipython",
    "version": 3
   },
   "file_extension": ".py",
   "mimetype": "text/x-python",
   "name": "python",
   "nbconvert_exporter": "python",
   "pygments_lexer": "ipython3",
   "version": "3.6.3"
  }
 },
 "nbformat": 4,
 "nbformat_minor": 2
}
